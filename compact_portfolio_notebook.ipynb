{
 "cells": [
  {
   "cell_type": "markdown",
   "metadata": {},
   "source": [
    "# Portfolio Optimization: 130/30 Strategy\n",
    "Ledoit-Wolf shrinkage with constrained optimization"
   ]
  },
  {
   "cell_type": "code",
   "execution_count": null,
   "metadata": {},
   "outputs": [],
   "source": [
    "import pandas as pd\n",
    "import numpy as np\n",
    "import cvxpy as cp\n",
    "from plotnine import *\n",
    "import warnings\n",
    "warnings.filterwarnings('ignore')"
   ]
  },
  {
   "cell_type": "code",
   "execution_count": null,
   "metadata": {},
   "outputs": [],
   "source": [
    "# Load returns from CSV (format: date, asset1, asset2, ...)\n",
    "returns = (pd.read_csv('returns_data.csv')\n",
    "           .assign(date=lambda x: pd.to_datetime(x.date))\n",
    "           .set_index('date')\n",
    "           .dropna())\n",
    "\n",
    "print(f\"Data: {returns.index[0]:%Y-%m} to {returns.index[-1]:%Y-%m}\")\n",
    "print(f\"Assets: {returns.shape[1]}, Periods: {returns.shape[0]}\")\n",
    "returns.head()"
   ]
  },
  {
   "cell_type": "code",
   "execution_count": null,
   "metadata": {},
   "outputs": [],
   "source": [
    "def calc_lw_cov(X):\n",
    "    \"\"\"Ledoit-Wolf covariance shrinkage\"\"\"\n",
    "    X = X.values\n",
    "    n, p = X.shape\n",
    "    X_centered = X - X.mean(axis=0)\n",
    "    S = np.cov(X, rowvar=False)\n",
    "    \n",
    "    beta_sum = sum(np.sum((np.outer(row, row) - S)**2) for row in X_centered)\n",
    "    beta_sq = beta_sum / n**2\n",
    "    \n",
    "    mu = np.mean(np.diag(S))\n",
    "    F = np.eye(p) * mu\n",
    "    delta_sq = np.sum((S - F)**2)\n",
    "    lambda_shrink = min(1, beta_sq / delta_sq)\n",
    "    \n",
    "    return lambda_shrink * F + (1 - lambda_shrink) * S\n",
    "\n",
    "def optimize_130_30(cov_matrix, mu=None, portfolio_type=\"gmv\", rf=0.035/12):\n",
    "    \"\"\"130/30 portfolio optimization\"\"\"\n",
    "    p = cov_matrix.shape[0]\n",
    "    w_long, w_short = cp.Variable(p, nonneg=True), cp.Variable(p, nonneg=True)\n",
    "    w = w_long - w_short\n",
    "    \n",
    "    constraints = [cp.sum(w_long) == 1.3, cp.sum(w_short) == 0.3]\n",
    "    \n",
    "    if portfolio_type == \"gmv\":\n",
    "        objective = cp.Minimize(cp.quad_form(w, cov_matrix))\n",
    "    else:\n",
    "        excess_ret = np.array(mu) - rf\n",
    "        objective = cp.Maximize(excess_ret.T @ w - 0.001 * cp.quad_form(w, cov_matrix))\n",
    "    \n",
    "    cp.Problem(objective, constraints).solve(verbose=False)\n",
    "    return w.value"
   ]
  },
  {
   "cell_type": "code",
   "execution_count": null,
   "metadata": {},
   "outputs": [],
   "source": [
    "# Rolling backtest\n",
    "results = []\n",
    "window = 60\n",
    "\n",
    "for i in range(window, len(returns)):\n",
    "    train = returns.iloc[i-window:i]\n",
    "    mu = train.mean().values\n",
    "    cov = calc_lw_cov(train)\n",
    "    \n",
    "    gmv_w = optimize_130_30(cov, portfolio_type=\"gmv\")\n",
    "    orp_w = optimize_130_30(cov, mu, \"orp\")\n",
    "    \n",
    "    if i < len(returns) - 1:\n",
    "        next_ret = returns.iloc[i+1].values\n",
    "        results.append({\n",
    "            'date': returns.index[i],\n",
    "            'gmv_return': np.dot(gmv_w, next_ret),\n",
    "            'orp_return': np.dot(orp_w, next_ret),\n",
    "            'gmv_weights': gmv_w,\n",
    "            'orp_weights': orp_w\n",
    "        })\n",
    "\n",
    "backtest = pd.DataFrame(results)\n",
    "print(f\"Backtest periods: {len(backtest)}\")"
   ]
  },
  {
   "cell_type": "code",
   "execution_count": null,
   "metadata": {},
   "outputs": [],
   "source": [
    "# Performance analysis\n",
    "perf = (backtest\n",
    "        .assign(gmv_cumret=lambda x: (1 + x.gmv_return).cumprod(),\n",
    "                orp_cumret=lambda x: (1 + x.orp_return).cumprod()))\n",
    "\n",
    "metrics = []\n",
    "for port in ['gmv', 'orp']:\n",
    "    ret_col = f'{port}_return'\n",
    "    cum_col = f'{port}_cumret'\n",
    "    \n",
    "    total_ret = perf[cum_col].iloc[-1] - 1\n",
    "    ann_ret = perf[cum_col].iloc[-1] ** (12/len(perf)) - 1\n",
    "    vol = perf[ret_col].std() * np.sqrt(12)\n",
    "    sharpe = (perf[ret_col].mean() * np.sqrt(12)) / vol\n",
    "    \n",
    "    metrics.append({\n",
    "        'portfolio': port.upper(),\n",
    "        'total_return': f\"{total_ret:.1%}\",\n",
    "        'ann_return': f\"{ann_ret:.1%}\",\n",
    "        'volatility': f\"{vol:.1%}\",\n",
    "        'sharpe': f\"{sharpe:.2f}\"\n",
    "    })\n",
    "\n",
    "pd.DataFrame(metrics)"
   ]
  },
  {
   "cell_type": "code",
   "execution_count": null,
   "metadata": {},
   "outputs": [],
   "source": [
    "# Exposure verification\n",
    "weights_long = []\n",
    "for _, row in backtest.iterrows():\n",
    "    for port, weights in [('gmv', row.gmv_weights), ('orp', row.orp_weights)]:\n",
    "        long_exp = np.sum(np.maximum(weights, 0))\n",
    "        short_exp = np.sum(np.maximum(-weights, 0))\n",
    "        weights_long.append({\n",
    "            'date': row.date, 'portfolio': port,\n",
    "            'long': long_exp, 'short': short_exp,\n",
    "            'net': np.sum(weights), 'gross': np.sum(np.abs(weights))\n",
    "        })\n",
    "\n",
    "exposure_df = pd.DataFrame(weights_long)\n",
    "print(\"Average Exposures (Target: 130% long, 30% short):\")\n",
    "exposure_df.groupby('portfolio')[['long', 'short', 'net', 'gross']].mean().round(3)"
   ]
  },
  {
   "cell_type": "code",
   "execution_count": null,
   "metadata": {},
   "outputs": [],
   "source": [
    "# Cumulative returns plot\n",
    "(perf\n",
    " .melt(id_vars='date', value_vars=['gmv_cumret', 'orp_cumret'],\n",
    "       var_name='portfolio', value_name='cumret')\n",
    " .pipe(lambda x: \n",
    "    ggplot(x, aes('date', 'cumret', color='portfolio')) +\n",
    "    geom_line(size=1.2) +\n",
    "    labs(title=\"Cumulative Returns: 130/30 Strategy\",\n",
    "         x=\"Date\", y=\"Cumulative Return\") +\n",
    "    theme_minimal() +\n",
    "    scale_color_discrete(name=\"Portfolio\",\n",
    "                        labels=[\"GMV\", \"ORP\"])))"
   ]
  },
  {
   "cell_type": "code",
   "execution_count": null,
   "metadata": {},
   "outputs": [],
   "source": [
    "# Exposure plot\n",
    "(exposure_df\n",
    " .query(\"portfolio == 'gmv'\")\n",
    " .melt(id_vars='date', value_vars=['long', 'short'])\n",
    " .pipe(lambda x:\n",
    "    ggplot(x, aes('date', 'value', color='variable')) +\n",
    "    geom_line(size=1) +\n",
    "    geom_hline(yintercept=1.3, linetype='dashed', alpha=0.5) +\n",
    "    geom_hline(yintercept=0.3, linetype='dashed', alpha=0.5) +\n",
    "    labs(title=\"Portfolio Exposures (GMV)\",\n",
    "         x=\"Date\", y=\"Exposure\") +\n",
    "    theme_minimal()))"
   ]
  },
  {
   "cell_type": "code",
   "execution_count": null,
   "metadata": {},
   "outputs": [],
   "source": [
    "# Export results\n",
    "perf.to_csv(\"portfolio_returns.csv\", index=False)\n",
    "exposure_df.to_csv(\"exposure_analysis.csv\", index=False)\n",
    "print(\"Results exported to CSV files\")\n",
    "print(f\"Final GMV Sharpe: {(perf.gmv_return.mean() * np.sqrt(12)) / (perf.gmv_return.std() * np.sqrt(12)):.2f}\")\n",
    "print(f\"Final ORP Sharpe: {(perf.orp_return.mean() * np.sqrt(12)) / (perf.orp_return.std() * np.sqrt(12)):.2f}\")"
   ]
  }
 ],
 "metadata": {
  "kernelspec": {
   "display_name": "Python 3",
   "language": "python",
   "name": "python3"
  },
  "language_info": {
   "codemirror_mode": {"name": "ipython", "version": 3},
   "file_extension": ".py",
   "mimetype": "text/x-python",
   "name": "python",
   "nbconvert_exporter": "python",
   "pygments_lexer": "ipython3",
   "version": "3.9.0"
  }
 },
 "nbformat": 4,
 "nbformat_minor": 4
}